{
 "cells": [
  {
   "cell_type": "markdown",
   "id": "3b5381ec",
   "metadata": {},
   "source": [
    "<br><font size=\"6\" face=\"Verdana\" color='white'>LOAN PREDICTION</font><br>\n",
    "<br><font size=\"4\" face=\"Verdana\" color='white'>by Reeve Chaitanya</font><br><br>"
   ]
  },
  {
   "cell_type": "code",
   "execution_count": 10,
   "id": "5ed6f8b5",
   "metadata": {},
   "outputs": [],
   "source": [
    "import pandas as pd\n",
    "import numpy as np\n",
    "from sklearn.metrics import accuracy_score,classification_report"
   ]
  },
  {
   "cell_type": "markdown",
   "id": "e3a9219a",
   "metadata": {},
   "source": [
    "<br><font size=\"4\" face=\"Verdana\" color='white'>DATA PREPROCESSING</font><br><br>"
   ]
  },
  {
   "cell_type": "code",
   "execution_count": 17,
   "id": "054a0dce",
   "metadata": {},
   "outputs": [],
   "source": [
    "#  Importing the Dataset\n",
    "dataset = pd.read_csv('loan_prediction_dataset.csv')"
   ]
  },
  {
   "cell_type": "markdown",
   "id": "23fb648d",
   "metadata": {},
   "source": [
    "Cleaning Data"
   ]
  },
  {
   "cell_type": "code",
   "execution_count": 18,
   "id": "7f238654",
   "metadata": {},
   "outputs": [],
   "source": [
    "# Dropping Columns\n",
    "dataset.drop('Loan_ID',axis=1,inplace=True)"
   ]
  },
  {
   "cell_type": "code",
   "execution_count": 19,
   "id": "852cf784",
   "metadata": {},
   "outputs": [],
   "source": [
    "# Taking Care of Missing Values\n",
    "null_cols = ['Credit_History', 'Self_Employed', 'LoanAmount','Dependents', 'Loan_Amount_Term', 'Gender', 'Married']\n",
    "for col in null_cols:\n",
    "    # Replacing NaN values with Mode of the column\n",
    "    dataset[col] = dataset[col].fillna(dataset[col].dropna().mode().values[0] ) "
   ]
  },
  {
   "cell_type": "code",
   "execution_count": 20,
   "id": "86918885",
   "metadata": {},
   "outputs": [],
   "source": [
    "# Coverting String type to Integer\n",
    "dataset['Dependents'].replace(to_replace='3+', value='3', inplace=True)\n",
    "dataset['Dependents'] = dataset['Dependents'].astype(int)"
   ]
  },
  {
   "cell_type": "markdown",
   "id": "ef89a8b1",
   "metadata": {},
   "source": [
    "Encoding Categorical Variables"
   ]
  },
  {
   "cell_type": "code",
   "execution_count": 22,
   "id": "f2becd61",
   "metadata": {},
   "outputs": [],
   "source": [
    "from sklearn.preprocessing import LabelEncoder\n",
    "le = LabelEncoder()\n",
    "\n",
    "# Columns to be encoded\n",
    "to_numeric = ['Gender','Married','Education','Self_Employed','Property_Area','Loan_Status']\n",
    "\n",
    "for col in to_numeric:\n",
    "    dataset[col] = le.fit_transform(dataset[col])"
   ]
  },
  {
   "cell_type": "markdown",
   "id": "5af8801f",
   "metadata": {},
   "source": [
    "Splitting Dataset"
   ]
  },
  {
   "cell_type": "code",
   "execution_count": 24,
   "id": "9cad55cc",
   "metadata": {},
   "outputs": [],
   "source": [
    "X = dataset.drop('Loan_Status', axis = 1)\n",
    "Y = dataset['Loan_Status']\n",
    "\n",
    "from sklearn.model_selection import train_test_split\n",
    "X_train, X_test, Y_train, Y_test = train_test_split(X, Y, test_size = 0.3, random_state = 0)"
   ]
  },
  {
   "cell_type": "markdown",
   "id": "6c3d4227",
   "metadata": {},
   "source": [
    "<br><font size=\"4\" face=\"Verdana\" color='white'>LOGISTIC REGRESSION</font><br><br>"
   ]
  },
  {
   "cell_type": "code",
   "execution_count": 74,
   "id": "5a98c5d6",
   "metadata": {
    "scrolled": true
   },
   "outputs": [
    {
     "name": "stdout",
     "output_type": "stream",
     "text": [
      "LOGISTIC REGRESSION\n",
      "\n",
      "Accuracy : 0.827027027027027\n",
      "\n",
      "Classification Report: \n",
      "              precision    recall  f1-score   support\n",
      "\n",
      "           0       0.88      0.43      0.58        51\n",
      "           1       0.82      0.98      0.89       134\n",
      "\n",
      "    accuracy                           0.83       185\n",
      "   macro avg       0.85      0.70      0.74       185\n",
      "weighted avg       0.84      0.83      0.81       185\n",
      "\n"
     ]
    }
   ],
   "source": [
    "from sklearn.linear_model import LogisticRegression\n",
    "\n",
    "# Initializing the Model\n",
    "regerssor = LogisticRegression()\n",
    "\n",
    "# Fitting the Training Data \n",
    "regerssor.fit(X_train, Y_train)\n",
    "\n",
    "# Predicting on Test Set\n",
    "Y_pred = regerssor.predict(X_test)\n",
    "\n",
    "# Evaluating the Model\n",
    "lr_ac = accuracy_score(Y_pred,Y_test)\n",
    "print(\"LOGISTIC REGRESSION\\n\")\n",
    "print(f'Accuracy : {lr_ac}\\n')\n",
    "print(f\"Classification Report: \\n{classification_report(Y_test, Y_pred)}\")"
   ]
  },
  {
   "cell_type": "markdown",
   "id": "df4323a3",
   "metadata": {},
   "source": [
    "<br><font size=\"4\" face=\"Verdana\" color='white'>DECISION TREE</font><br><br>"
   ]
  },
  {
   "cell_type": "code",
   "execution_count": 75,
   "id": "358c4cf3",
   "metadata": {},
   "outputs": [
    {
     "name": "stdout",
     "output_type": "stream",
     "text": [
      "DECISION TREE CLASSIFIER\n",
      "\n",
      "Accuracy : 0.6972972972972973\n",
      "\n",
      "Classification Report: \n",
      "              precision    recall  f1-score   support\n",
      "\n",
      "           0       0.46      0.55      0.50        51\n",
      "           1       0.81      0.75      0.78       134\n",
      "\n",
      "    accuracy                           0.70       185\n",
      "   macro avg       0.64      0.65      0.64       185\n",
      "weighted avg       0.72      0.70      0.70       185\n",
      "\n"
     ]
    }
   ],
   "source": [
    "from sklearn.tree import DecisionTreeClassifier\n",
    "\n",
    "# Initializing the Model\n",
    "dt = DecisionTreeClassifier()\n",
    "\n",
    "# Fitting the Training Data \n",
    "dt.fit(X_train, Y_train)\n",
    "\n",
    "# Predicting on Test Set\n",
    "Y_pred = dt.predict(X_test)\n",
    "\n",
    "# Evaluating the Model\n",
    "dt_ac = accuracy_score(Y_pred,Y_test)\n",
    "print(\"DECISION TREE CLASSIFIER\\n\")\n",
    "print(f'Accuracy : {dt_ac}\\n')\n",
    "print(f\"Classification Report: \\n{classification_report(Y_test, Y_pred)}\")"
   ]
  },
  {
   "cell_type": "markdown",
   "id": "93120e30",
   "metadata": {},
   "source": [
    "<br><font size=\"4\" face=\"Verdana\" color='white'>RANDOM FOREST</font><br><br>"
   ]
  },
  {
   "cell_type": "code",
   "execution_count": 76,
   "id": "241589b1",
   "metadata": {},
   "outputs": [
    {
     "name": "stdout",
     "output_type": "stream",
     "text": [
      "RANDOM FOREST CLASSIFIER\n",
      "\n",
      "Accuracy : 0.7945945945945946\n",
      "\n",
      "Classification Report: \n",
      "              precision    recall  f1-score   support\n",
      "\n",
      "           0       0.71      0.43      0.54        51\n",
      "           1       0.81      0.93      0.87       134\n",
      "\n",
      "    accuracy                           0.79       185\n",
      "   macro avg       0.76      0.68      0.70       185\n",
      "weighted avg       0.78      0.79      0.78       185\n",
      "\n"
     ]
    }
   ],
   "source": [
    "from sklearn.ensemble import RandomForestClassifier\n",
    "\n",
    "# Initializing the Model\n",
    "rfc = RandomForestClassifier()\n",
    "\n",
    "# Fitting the Training Data \n",
    "rfc.fit(X_train, Y_train)\n",
    "\n",
    "# Predicting on Test Set\n",
    "Y_pred = rfc.predict(X_test)\n",
    "\n",
    "# Evaluating the Model\n",
    "rfc_ac = accuracy_score(Y_pred,Y_test)\n",
    "print(\"RANDOM FOREST CLASSIFIER\\n\")\n",
    "print(f'Accuracy : {rfc_ac}\\n')\n",
    "print(f\"Classification Report: \\n{classification_report(Y_test, Y_pred)}\")"
   ]
  },
  {
   "cell_type": "markdown",
   "id": "1e9e3db1",
   "metadata": {},
   "source": [
    "<br><font size=\"4\" face=\"Verdana\" color='white'>SUPPORT VECTOR MACHINE</font><br><br>"
   ]
  },
  {
   "cell_type": "code",
   "execution_count": 73,
   "id": "01760d6a",
   "metadata": {},
   "outputs": [
    {
     "name": "stdout",
     "output_type": "stream",
     "text": [
      "SUPPORT VECTOR MACHINE\n",
      "\n",
      "Accuracy : 0.8216216216216217\n",
      "\n",
      "Classification Report: \n",
      "              precision    recall  f1-score   support\n",
      "\n",
      "           0       0.88      0.41      0.56        51\n",
      "           1       0.81      0.98      0.89       134\n",
      "\n",
      "    accuracy                           0.82       185\n",
      "   macro avg       0.84      0.69      0.72       185\n",
      "weighted avg       0.83      0.82      0.80       185\n",
      "\n"
     ]
    }
   ],
   "source": [
    "from sklearn.svm import SVC\n",
    "\n",
    "# Initializing the Model\n",
    "svm = SVC(kernel='linear',C=0.025)\n",
    "\n",
    "# Fitting the Training Data \n",
    "svm.fit(X_train, Y_train)\n",
    "\n",
    "# Predicting on Test Set\n",
    "Y_pred = svm.predict(X_test)\n",
    "\n",
    "# Evaluating the Model\n",
    "svm_ac = accuracy_score(Y_pred,Y_test)\n",
    "print(\"SUPPORT VECTOR MACHINE\\n\")\n",
    "print(f'Accuracy : {svm_ac}\\n')\n",
    "print(f\"Classification Report: \\n{classification_report(Y_test, Y_pred)}\")"
   ]
  },
  {
   "cell_type": "markdown",
   "id": "e1cad830",
   "metadata": {},
   "source": [
    "<br><font size=\"4\" face=\"Verdana\" color='white'>NAIVE BAYES</font><br><br>"
   ]
  },
  {
   "cell_type": "code",
   "execution_count": 72,
   "id": "76a3ba47",
   "metadata": {},
   "outputs": [
    {
     "name": "stdout",
     "output_type": "stream",
     "text": [
      "NAIVE BAYES\n",
      "\n",
      "Accuracy : 0.8216216216216217\n",
      "\n",
      "Classification Report: \n",
      "              precision    recall  f1-score   support\n",
      "\n",
      "           0       0.85      0.43      0.57        51\n",
      "           1       0.82      0.97      0.89       134\n",
      "\n",
      "    accuracy                           0.82       185\n",
      "   macro avg       0.83      0.70      0.73       185\n",
      "weighted avg       0.83      0.82      0.80       185\n",
      "\n"
     ]
    }
   ],
   "source": [
    "from sklearn.naive_bayes import GaussianNB\n",
    "\n",
    "# Initializing the Model\n",
    "nb = GaussianNB()\n",
    "\n",
    "# Fitting the Training Data \n",
    "nb.fit(X_train, Y_train)\n",
    "\n",
    "# Predicting on Test Set\n",
    "Y_pred = nb.predict(X_test)\n",
    "\n",
    "# Evaluating the Model\n",
    "nb_ac = accuracy_score(Y_pred,Y_test)\n",
    "print(\"NAIVE BAYES\\n\")\n",
    "print(f'Accuracy : {nb_ac}\\n')\n",
    "print(f\"Classification Report: \\n{classification_report(Y_test, Y_pred)}\")"
   ]
  },
  {
   "cell_type": "markdown",
   "id": "dda8543d",
   "metadata": {},
   "source": [
    "<br><font size=\"4\" face=\"Verdana\" color='white'>K-NEAREST NEIGHBORS</font><br><br>"
   ]
  },
  {
   "cell_type": "code",
   "execution_count": 68,
   "id": "e368f7fc",
   "metadata": {
    "scrolled": true
   },
   "outputs": [
    {
     "name": "stdout",
     "output_type": "stream",
     "text": [
      "K-NEAREST NEIGHBORS\n",
      "\n",
      "Accuracy : 0.7189189189189189\n",
      "\n",
      "Classification Report: \n",
      "              precision    recall  f1-score   support\n",
      "\n",
      "           0       0.33      0.02      0.04        51\n",
      "           1       0.73      0.99      0.84       134\n",
      "\n",
      "    accuracy                           0.72       185\n",
      "   macro avg       0.53      0.50      0.44       185\n",
      "weighted avg       0.62      0.72      0.62       185\n",
      "\n"
     ]
    }
   ],
   "source": [
    "from sklearn.neighbors import KNeighborsClassifier\n",
    "\n",
    "# Initializing the Model\n",
    "knn = KNeighborsClassifier(n_neighbors=30)\n",
    "\n",
    "# Fitting the Training Data \n",
    "knn.fit(X_train, Y_train)\n",
    "\n",
    "# Predicting on Test Set\n",
    "Y_pred = knn.predict(X_test)\n",
    "\n",
    "# Evaluating the Model\n",
    "knn_ac = accuracy_score(Y_pred,Y_test)\n",
    "print(\"K-NEAREST NEIGHBORS\\n\")\n",
    "print(f'Accuracy : {knn_ac}\\n')\n",
    "print(f\"Classification Report: \\n{classification_report(Y_test, Y_pred)}\")"
   ]
  },
  {
   "cell_type": "markdown",
   "id": "7fecd402",
   "metadata": {},
   "source": [
    "<br><font size=\"4\" face=\"Verdana\" color='white'>COMPARING ACCURACY</font><br><br>"
   ]
  },
  {
   "cell_type": "code",
   "execution_count": 78,
   "id": "dc4c6174",
   "metadata": {},
   "outputs": [
    {
     "name": "stdout",
     "output_type": "stream",
     "text": [
      "Comparing Accuracy of all the Models: \n"
     ]
    },
    {
     "data": {
      "text/html": [
       "<div>\n",
       "<style scoped>\n",
       "    .dataframe tbody tr th:only-of-type {\n",
       "        vertical-align: middle;\n",
       "    }\n",
       "\n",
       "    .dataframe tbody tr th {\n",
       "        vertical-align: top;\n",
       "    }\n",
       "\n",
       "    .dataframe thead th {\n",
       "        text-align: right;\n",
       "    }\n",
       "</style>\n",
       "<table border=\"1\" class=\"dataframe\">\n",
       "  <thead>\n",
       "    <tr style=\"text-align: right;\">\n",
       "      <th></th>\n",
       "      <th>Model</th>\n",
       "      <th>Accuracy</th>\n",
       "    </tr>\n",
       "  </thead>\n",
       "  <tbody>\n",
       "    <tr>\n",
       "      <th>0</th>\n",
       "      <td>Logistic Regression</td>\n",
       "      <td>0.83</td>\n",
       "    </tr>\n",
       "    <tr>\n",
       "      <th>1</th>\n",
       "      <td>Decision Tree</td>\n",
       "      <td>0.70</td>\n",
       "    </tr>\n",
       "    <tr>\n",
       "      <th>2</th>\n",
       "      <td>Random Forest</td>\n",
       "      <td>0.79</td>\n",
       "    </tr>\n",
       "    <tr>\n",
       "      <th>3</th>\n",
       "      <td>Support Vector Machine</td>\n",
       "      <td>0.82</td>\n",
       "    </tr>\n",
       "    <tr>\n",
       "      <th>4</th>\n",
       "      <td>Naive Bayes</td>\n",
       "      <td>0.82</td>\n",
       "    </tr>\n",
       "    <tr>\n",
       "      <th>5</th>\n",
       "      <td>K-Nearest Neighbor</td>\n",
       "      <td>0.72</td>\n",
       "    </tr>\n",
       "  </tbody>\n",
       "</table>\n",
       "</div>"
      ],
      "text/plain": [
       "                    Model  Accuracy\n",
       "0     Logistic Regression      0.83\n",
       "1           Decision Tree      0.70\n",
       "2           Random Forest      0.79\n",
       "3  Support Vector Machine      0.82\n",
       "4             Naive Bayes      0.82\n",
       "5      K-Nearest Neighbor      0.72"
      ]
     },
     "execution_count": 78,
     "metadata": {},
     "output_type": "execute_result"
    }
   ],
   "source": [
    "print(\"Comparing Accuracy of all the Models: \")\n",
    "pd.DataFrame(zip(['Logistic Regression','Decision Tree','Random Forest','Support Vector Machine','Naive Bayes','K-Nearest Neighbor'],[round(lr_ac,2),round(dt_ac,2),round(rfc_ac,2),round(svm_ac,2),round(nb_ac,2),round(knn_ac,2)]),columns=['Model','Accuracy'])"
   ]
  }
 ],
 "metadata": {
  "kernelspec": {
   "display_name": "Python 3 (ipykernel)",
   "language": "python",
   "name": "python3"
  },
  "language_info": {
   "codemirror_mode": {
    "name": "ipython",
    "version": 3
   },
   "file_extension": ".py",
   "mimetype": "text/x-python",
   "name": "python",
   "nbconvert_exporter": "python",
   "pygments_lexer": "ipython3",
   "version": "3.8.11"
  }
 },
 "nbformat": 4,
 "nbformat_minor": 5
}
